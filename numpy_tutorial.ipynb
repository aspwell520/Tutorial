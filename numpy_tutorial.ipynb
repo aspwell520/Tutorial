{
 "cells": [
  {
   "cell_type": "code",
   "execution_count": 18,
   "metadata": {},
   "outputs": [
    {
     "name": "stdout",
     "output_type": "stream",
     "text": [
      "matrix1's shape (12,)\n",
      "matrix2's shape (4, 3)\n",
      "-------------------\n",
      "matrix1's dimension 1\n",
      "matrix2's dimension 2\n",
      "-------------------\n",
      "matrix1's data type int32\n",
      "matrix2's data type float64\n",
      "-------------------\n",
      "matrix1's size: 12\n",
      "matrix2's size: 12\n",
      "-------------------\n",
      "[[ 1  2  3  4  5  6]\n",
      " [ 7  8  9 10 11 12]]\n",
      "[  1.   2.   3.   4.   5.   6.   7.   8.   9.  10.  11.  12.]\n"
     ]
    }
   ],
   "source": [
    "import numpy as np\n",
    "matrix1 = np.array([1,2,3,4,5,6,7,8,9,10,11,12])\n",
    "matrix2 = np.array([[1.0,2.0,3.0],[4.0,5.0,6.0],[7.0,8.0,9.0],[10.0,11.0,12.0]])\n",
    "print(\"matrix1's shape\",matrix1.shape)\n",
    "print(\"matrix2's shape\",matrix2.shape)\n",
    "print('-------------------')\n",
    "print(\"matrix1's dimension\",matrix1.ndim)\n",
    "print(\"matrix2's dimension\",matrix2.ndim)\n",
    "print('-------------------')\n",
    "print(\"matrix1's data type\",matrix1.dtype)\n",
    "print(\"matrix2's data type\",matrix2.dtype)\n",
    "print('-------------------')\n",
    "print(\"matrix1's size:\",matrix1.size)\n",
    "print(\"matrix2's size:\",matrix1.size)\n",
    "print('-------------------')\n",
    "print(matrix1.reshape(2,6))\n",
    "print(matrix2.reshape(12,))"
   ]
  },
  {
   "cell_type": "code",
   "execution_count": 20,
   "metadata": {},
   "outputs": [
    {
     "name": "stdout",
     "output_type": "stream",
     "text": [
      "[[ 0.  0.  0.  0.]\n",
      " [ 0.  0.  0.  0.]\n",
      " [ 0.  0.  0.  0.]]\n",
      "-------------------\n",
      "[[ 1.  1.  1.  1.]\n",
      " [ 1.  1.  1.  1.]\n",
      " [ 1.  1.  1.  1.]]\n"
     ]
    }
   ],
   "source": [
    "import numpy as np\n",
    "matrix3 = np.zeros((3,4))\n",
    "print(matrix3)\n",
    "print('-------------------')\n",
    "matrix4 = np.ones((3,4))\n",
    "print(matrix4)"
   ]
  },
  {
   "cell_type": "code",
   "execution_count": 38,
   "metadata": {},
   "outputs": [
    {
     "name": "stdout",
     "output_type": "stream",
     "text": [
      "[  5.  10.  15.  20.] [ 1.  2.  6.  4.]\n",
      "[  4.   8.   9.  16.] [  6.  12.  21.  24.] [  5.  20.  90.  80.] [ 5.   5.   2.5  5. ]\n",
      "[ True  True  True False]\n"
     ]
    }
   ],
   "source": [
    "import numpy as np\n",
    "a = np.array([5,10,15,20],dtype = float)\n",
    "b = np.array([1,2,6,4],dtype = float)\n",
    "print(a,b)\n",
    "print(a-b,a+b,a*b,a/b)\n",
    "print(a<16)"
   ]
  },
  {
   "cell_type": "code",
   "execution_count": null,
   "metadata": {},
   "outputs": [],
   "source": [
    "for more application, please refer to \n",
    "https://docs.scipy.org/doc/numpy-dev/user/quickstart.html"
   ]
  }
 ],
 "metadata": {
  "kernelspec": {
   "display_name": "Python 3",
   "language": "python",
   "name": "python3"
  },
  "language_info": {
   "codemirror_mode": {
    "name": "ipython",
    "version": 3
   },
   "file_extension": ".py",
   "mimetype": "text/x-python",
   "name": "python",
   "nbconvert_exporter": "python",
   "pygments_lexer": "ipython3",
   "version": "3.6.2"
  }
 },
 "nbformat": 4,
 "nbformat_minor": 2
}
