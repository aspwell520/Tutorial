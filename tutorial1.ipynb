{
 "cells": [
  {
   "cell_type": "code",
   "execution_count": 4,
   "metadata": {},
   "outputs": [
    {
     "name": "stdout",
     "output_type": "stream",
     "text": [
      "microelectronic\n",
      "['guitar', 'basketball']\n"
     ]
    }
   ],
   "source": [
    "schedule = {'monday' : {'course' : 'microelectronic' , 'society' : ['guitar','basketball']}}\n",
    "print(schedule['monday']['course'])\n",
    "print(schedule['monday']['society'])"
   ]
  },
  {
   "cell_type": "code",
   "execution_count": 7,
   "metadata": {},
   "outputs": [
    {
     "name": "stdout",
     "output_type": "stream",
     "text": [
      "我跟uncle及aunt養不一樣的寵物\n"
     ]
    }
   ],
   "source": [
    "pet = {'me':'rabbit','uncle':'cat','aunt':'fish'}\n",
    "if pet['me'] == pet['uncle'] and pet['me']!=pet['aunt']:\n",
    "    print('uncle跟我養一樣的寵物')\n",
    "\n",
    "elif pet['me'] != pet['uncle'] and pet['me'] == pet['aunt']:\n",
    "    print('aunt跟我養一樣的寵物')\n",
    "\n",
    "else:\n",
    "    print('我跟uncle及aunt養不一樣的寵物')"
   ]
  },
  {
   "cell_type": "code",
   "execution_count": 11,
   "metadata": {},
   "outputs": [
    {
     "name": "stdout",
     "output_type": "stream",
     "text": [
      "pet裡沒有Mike這個索引\n"
     ]
    }
   ],
   "source": [
    "pet ={'me':'rabbit','uncle':'cat','aunt':'fish' }\n",
    "try:\n",
    "    print(pet['Mike'])\n",
    "except:\n",
    "    print('pet裡沒有Mike這個索引')"
   ]
  },
  {
   "cell_type": "code",
   "execution_count": 16,
   "metadata": {},
   "outputs": [
    {
     "name": "stdout",
     "output_type": "stream",
     "text": [
      "0\n",
      "1\n",
      "2\n",
      "3\n",
      "4\n",
      "5\n",
      "6\n",
      "7\n",
      "8\n",
      "9\n",
      "--------------------\n",
      "0 Curry\n",
      "1 Kobe\n",
      "2 Lebron\n",
      "------第一種方法------\n",
      "Curry\n",
      "Kobe\n",
      "Lebron\n",
      "------第二種方法------\n",
      "Curry\n",
      "Kobe\n",
      "Lebron\n",
      "--------------------\n",
      "Kobe The Black Mamba\n",
      "Lebron The King\n",
      "--------------------\n",
      "Kobe 5 [2000, 2001, 2002, 2009, 2010]\n",
      "Curry 2 [2015, 2017]\n",
      "Lebron 3 [2012, 2013, 2016]\n"
     ]
    }
   ],
   "source": [
    "for i in range(10):\n",
    "    print(i)\n",
    "    \n",
    "print('--------------------')\n",
    "\n",
    "for cnt,element in enumerate(['Curry','Kobe','Lebron']):\n",
    "    print(cnt,element)\n",
    "\n",
    "list_ = ['Curry','Kobe','Lebron']\n",
    "\n",
    "print('------第一種方法------')\n",
    "\n",
    "for element in list_:\n",
    "    print(element)\n",
    "\n",
    "print('------第二種方法------')\n",
    "\n",
    "for cnt in range(len(list_)):\n",
    "    print(list_[cnt])\n",
    "\n",
    "print('--------------------')\n",
    "\n",
    "nick_name = {'Kobe' : 'The Black Mamba' , 'Lebron':'The King'}\n",
    "\n",
    "for key,value in nick_name.items():\n",
    "    print(key,value)\n",
    "\n",
    "print('--------------------')\n",
    "\n",
    "name = ['Kobe','Curry','Lebron']\n",
    "champion = [5,2,3]\n",
    "year = [[2000,2001,2002,2009,2010],[2015,2017],[2012,2013,2016]]\n",
    "\n",
    "for n,c,y in zip(name,champion,year):\n",
    "    print(n,c,y)"
   ]
  },
  {
   "cell_type": "code",
   "execution_count": 26,
   "metadata": {},
   "outputs": [
    {
     "name": "stdout",
     "output_type": "stream",
     "text": [
      "16 < 17 (x < y)\n"
     ]
    }
   ],
   "source": [
    "def func(x,y):\n",
    "    if x > y :\n",
    "        print('%d > %d'%(x,y),'(x > y)')\n",
    "    if x < y :\n",
    "        print('%d < %d'%(x,y), '(x < y)')\n",
    "    else:\n",
    "        print('They are equal')\n",
    "\n",
    "func(16,17)"
   ]
  },
  {
   "cell_type": "code",
   "execution_count": 39,
   "metadata": {},
   "outputs": [
    {
     "name": "stdout",
     "output_type": "stream",
     "text": [
      "東部 2 ['花蓮縣', '台東縣']\n",
      "北部 7 ['台北市', '新北市', '基隆市', '宜蘭縣', '桃園市', '新竹縣', '新竹市']\n",
      "中部 5 ['苗栗縣', '台中市', '彰化縣', '南投縣', '雲林縣']\n",
      "南部 6 ['嘉義市', '嘉義縣', '台南市', '高雄市', '屏東縣', '澎湖縣']\n"
     ]
    }
   ],
   "source": [
    "Taiwan = {'東部':['花蓮縣','台東縣'],\n",
    "          '北部':['台北市','新北市','基隆市','宜蘭縣','桃園市','新竹縣','新竹市'],\n",
    "          '中部':['苗栗縣','台中市','彰化縣','南投縣','雲林縣'],\n",
    "          '南部':['嘉義市','嘉義縣','台南市','高雄市','屏東縣','澎湖縣']}\n",
    "\n",
    "\n",
    "for key,value in Taiwan.items():\n",
    "    print(key,len(value),value)"
   ]
  }
 ],
 "metadata": {
  "kernelspec": {
   "display_name": "Python 3",
   "language": "python",
   "name": "python3"
  },
  "language_info": {
   "codemirror_mode": {
    "name": "ipython",
    "version": 3
   },
   "file_extension": ".py",
   "mimetype": "text/x-python",
   "name": "python",
   "nbconvert_exporter": "python",
   "pygments_lexer": "ipython3",
   "version": "3.6.2"
  }
 },
 "nbformat": 4,
 "nbformat_minor": 2
}
